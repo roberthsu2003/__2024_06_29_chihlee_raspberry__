{
 "cells": [
  {
   "cell_type": "code",
   "execution_count": 1,
   "metadata": {},
   "outputs": [
    {
     "name": "stdout",
     "output_type": "stream",
     "text": [
      "\n",
      "12,12.0,12.0,abc,efg\n",
      "12,12.0,12.0,abc,efg.\n"
     ]
    }
   ],
   "source": [
    "print()\n",
    "print(12,12.0,'12.0','abc',\"efg\",sep=',')\n",
    "print(12,12.0,'12.0','abc',\"efg\",sep=',',end='.\\n')"
   ]
  },
  {
   "cell_type": "code",
   "execution_count": 6,
   "metadata": {},
   "outputs": [
    {
     "name": "stdout",
     "output_type": "stream",
     "text": [
      "robert 78 89.0 65.0\n",
      "<class 'str'>\n",
      "<class 'int'>\n",
      "<class 'float'>\n"
     ]
    }
   ],
   "source": [
    "name = 'robert'\n",
    "chinese = 78\n",
    "english = 89.0\n",
    "math = 65.0\n",
    "print(name,chinese,english,math)\n",
    "print(type(name))\n",
    "print(type(chinese))\n",
    "print(type(english))"
   ]
  },
  {
   "cell_type": "code",
   "execution_count": 18,
   "metadata": {},
   "outputs": [
    {
     "data": {
      "text/plain": [
       "8"
      ]
     },
     "execution_count": 18,
     "metadata": {},
     "output_type": "execute_result"
    }
   ],
   "source": [
    "import random\n",
    "\n",
    "randnum = random.randint(1,10)\n",
    "randnum"
   ]
  }
 ],
 "metadata": {
  "kernelspec": {
   "display_name": "venv1",
   "language": "python",
   "name": "python3"
  },
  "language_info": {
   "codemirror_mode": {
    "name": "ipython",
    "version": 3
   },
   "file_extension": ".py",
   "mimetype": "text/x-python",
   "name": "python",
   "nbconvert_exporter": "python",
   "pygments_lexer": "ipython3",
   "version": "3.11.2"
  }
 },
 "nbformat": 4,
 "nbformat_minor": 2
}
